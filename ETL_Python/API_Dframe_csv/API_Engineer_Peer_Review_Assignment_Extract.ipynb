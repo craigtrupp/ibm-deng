{
 "cells": [
  {
   "cell_type": "markdown",
   "metadata": {},
   "source": [
    "<p style=\"text-align:center\">\n",
    "    <a href=\"https://skills.network/?utm_medium=Exinfluencer&utm_source=Exinfluencer&utm_content=000026UJ&utm_term=10006555&utm_id=NA-SkillsNetwork-Channel-SkillsNetworkCoursesIBMDeveloperSkillsNetworkPY0221ENSkillsNetwork899-2023-01-01\">\n",
    "    <img src=\"https://cf-courses-data.s3.us.cloud-object-storage.appdomain.cloud/assets/logos/SN_web_lightmode.png\" width=\"200\" alt=\"Skills Network Logo\"  />\n",
    "    </a>\n",
    "</p>\n"
   ]
  },
  {
   "cell_type": "markdown",
   "metadata": {},
   "source": [
    "# Peer Review Assignment - Data Engineer - Extract API Data\n"
   ]
  },
  {
   "cell_type": "markdown",
   "metadata": {},
   "source": [
    "Estimated time needed: **20** minutes\n"
   ]
  },
  {
   "cell_type": "markdown",
   "metadata": {},
   "source": [
    "## Objectives\n",
    "\n",
    "In this part you will:\n",
    "\n",
    "-   Collect exchange rate data using an API\n",
    "-   Store the data as a CSV\n"
   ]
  },
  {
   "cell_type": "markdown",
   "metadata": {},
   "source": [
    "For this lab, we are going to be using Python and several Python libraries. Some of these libraries might be installed in your lab environment or in SN Labs. Others may need to be installed by you. The cells below will install these libraries when executed.\n"
   ]
  },
  {
   "cell_type": "code",
   "execution_count": 1,
   "metadata": {
    "tags": []
   },
   "outputs": [],
   "source": [
    "#!mamba install pandas==1.3.3 -y\n",
    "#!mamba install requests==2.26.0 -y"
   ]
  },
  {
   "cell_type": "markdown",
   "metadata": {},
   "source": [
    "## Imports\n",
    "\n",
    "Import any additional libraries you may need here.\n"
   ]
  },
  {
   "cell_type": "code",
   "execution_count": 2,
   "metadata": {
    "tags": []
   },
   "outputs": [],
   "source": [
    "import requests\n",
    "import pandas as pd"
   ]
  },
  {
   "cell_type": "markdown",
   "metadata": {},
   "source": [
    "## Extract Data Using an API\n"
   ]
  },
  {
   "cell_type": "markdown",
   "metadata": {},
   "source": [
    "Using ExchangeRate-API we will extract currency exchange rate data. Use the below steps to get the access key and to get the data. \n",
    "1. Open the url : https://exchangeratesapi.io/ and click on **Get Free API Key**. \n",
    "2. Subscribe for Free plan and Sign-in with the Google Account. \n",
    "3. Once the account is created you will be redirected to https://apilayer.com website.\n",
    "2. Now, click on the **user icon** and click **Account** as shown below:\n",
    "\n",
    "<img src=\"https://cf-courses-data.s3.us.cloud-object-storage.appdomain.cloud/IBMDeveloperSkillsNetwork-PY0221EN-SkillsNetwork/labs/module%206/Final%20Assignment/Images/account.png\">\n",
    "\n",
    "3. Scroll down and you will get the API Key section. Copy the API key and use in the url in Question 1.\n"
   ]
  },
  {
   "cell_type": "markdown",
   "metadata": {},
   "source": [
    "### Call the API\n",
    "\n",
    " <b> Question 1</b> Using the `requests` library call the endpoint given above and save the text, remember the first few characters of the output: \n"
   ]
  },
  {
   "cell_type": "code",
   "execution_count": 17,
   "metadata": {
    "tags": []
   },
   "outputs": [],
   "source": [
    "# Write your code here\n",
    "url = \"http://api.exchangeratesapi.io/v1/latest?base=EUR&access_key=99a99a4e3d6ceaf5a8323281e8256090\"\n",
    "response_text = requests.get(url).text\n",
    "response_dict = requests.get(url)"
   ]
  },
  {
   "cell_type": "markdown",
   "metadata": {},
   "source": [
    "### Save as DataFrame\n",
    "\n",
    " <b> Question 2</b>  Using the data gathered turn it into a `pandas` dataframe. The dataframe should have the Currency as the index and `Rate` as their columns. Make sure to drop unnecessary columns.\n"
   ]
  },
  {
   "cell_type": "code",
   "execution_count": 19,
   "metadata": {
    "tags": []
   },
   "outputs": [
    {
     "data": {
      "text/plain": [
       "'{\"success\":true,\"timestamp\":1690569423,\"base\":\"EUR\",\"date\":\"2023-07-28\",\"rates\":{\"AED\":4.048477,\"AFN\":96.446468,\"ALL\":105.535622,\"AMD\":425.690223,\"ANG\":1.983802,\"AOA\":908.963852,\"ARS\":301.614318,\"AUD\":1.656241,\"AWG\":1.983951,\"AZN\":1.878107,\"BAM\":1.958234,\"BBD\":2.222503,\"BDT\":119.448478,\"BGN\":1.955052,\"BHD\":0.415487,\"BIF\":3124.72301,\"BMD\":1.102195,\"BND\":1.465835,\"BOB\":7.606662,\"BRL\":5.219008,\"BSD\":1.100788,\"BTC\":3.7644274e-5,\"BTN\":90.504964,\"BWP\":14.389017,\"BYN\":2.778391,\"BYR\":21603.023281,\"BZD\":2.218798,\"CAD\":1.459296,\"CDF\":2726.830991,\"CHF\":0.957802,\"CLF\":0.033029,\"CLP\":911.383492,\"CNY\":7.879637,\"COP\":4320.891227,\"CRC\":594.655362,\"CUC\":1.102195,\"CUP\":29.208169,\"CVE\":110.55446,\"CZK\":23.977707,\"DJF\":195.882541,\"DKK\":7.452283,\"DOP\":61.947646,\"DZD\":149.649733,\"EGP\":34.054311,\"ERN\":16.532926,\"ETB\":60.345612,\"EUR\":1,\"FJD\":2.468642,\"FKP\":0.856433,\"GBP\":0.857182,\"GEL\":2.855116,\"GGP\":0.856433,\"GHS\":12.554432,\"GIP\":0.856433,\"GMD\":65.805293,\"GNF\":9533.987707,\"GTQ\":8.645904,\"GYD\":230.470665,\"HKD\":8.594311,\"HNL\":27.136471,\"HRK\":7.411004,\"HTG\":150.799501,\"HUF\":385.349866,\"IDR\":16625.785915,\"ILS\":4.081543,\"IMP\":0.856433,\"INR\":90.654997,\"IQD\":1443.875536,\"IRR\":46677.961407,\"ISK\":144.906011,\"JEP\":0.856433,\"JMD\":170.064482,\"JOD\":0.780469,\"JPY\":155.29984,\"KES\":156.95677,\"KGS\":96.595168,\"KHR\":4552.066006,\"KMF\":491.913842,\"KPW\":991.960271,\"KRW\":1406.996511,\"KWD\":0.338683,\"KYD\":0.917248,\"KZT\":490.188215,\"LAK\":20983.042725,\"LBP\":16819.497082,\"LKR\":363.276509,\"LRD\":205.008666,\"LSL\":19.43212,\"LTL\":3.254496,\"LVL\":0.666707,\"LYD\":5.252003,\"MAD\":10.666497,\"MDL\":19.450707,\"MGA\":4910.279399,\"MKD\":61.605781,\"MMK\":2311.494236,\"MNT\":3798.115771,\"MOP\":8.842232,\"MRO\":393.483449,\"MUR\":50.48466,\"MVR\":16.919111,\"MWK\":1160.27384,\"MXN\":18.404496,\"MYR\":5.01885,\"MZN\":69.714254,\"NAD\":19.432115,\"NGN\":855.061303,\"NIO\":40.234225,\"NOK\":11.233159,\"NPR\":144.807943,\"NZD\":1.789904,\"OMR\":0.424339,\"PAB\":1.100688,\"PEN\":3.954718,\"PGK\":3.88014,\"PHP\":60.563457,\"PKR\":315.672749,\"PLN\":4.413906,\"PYG\":8018.185115,\"QAR\":4.013135,\"RON\":4.934752,\"RSD\":117.318054,\"RUB\":101.468489,\"RWF\":1297.283592,\"SAR\":4.1344,\"SBD\":9.200934,\"SCR\":14.942357,\"SDG\":662.974386,\"SEK\":11.611306,\"SGD\":1.467331,\"SHP\":1.341096,\"SLE\":23.233915,\"SLL\":21768.352914,\"SOS\":627.704129,\"SRD\":42.354092,\"STD\":22813.21253,\"SVC\":9.630884,\"SYP\":2769.299705,\"SZL\":19.421084,\"THB\":37.750588,\"TJS\":12.047594,\"TMT\":3.868705,\"TND\":3.390907,\"TOP\":2.590545,\"TRY\":29.669773,\"TTD\":7.4785,\"TWD\":34.564952,\"TZS\":2705.889255,\"UAH\":40.651869,\"UGX\":3979.000181,\"USD\":1.102195,\"UYU\":41.491575,\"UZS\":12807.507028,\"VEF\":3226919.660281,\"VES\":32.259702,\"VND\":26116.512074,\"VUV\":130.267151,\"WST\":2.991539,\"XAF\":656.779358,\"XAG\":0.045305,\"XAU\":0.000562,\"XCD\":2.978738,\"XDR\":0.816025,\"XOF\":650.850151,\"XPF\":119.643675,\"YER\":275.934935,\"ZAR\":19.370693,\"ZMK\":9921.082178,\"ZMW\":20.445972,\"ZWL\":354.906361}}'"
      ]
     },
     "execution_count": 19,
     "metadata": {},
     "output_type": "execute_result"
    }
   ],
   "source": [
    "response_text"
   ]
  },
  {
   "cell_type": "code",
   "execution_count": 27,
   "metadata": {
    "tags": []
   },
   "outputs": [
    {
     "name": "stdout",
     "output_type": "stream",
     "text": [
      "170\n"
     ]
    }
   ],
   "source": [
    "# response object has .json() method in object which we can call and then simply target the rates dictionary of key/value pairs in the object/json return\n",
    "rates = response_dict.json()['rates'] \n",
    "print(len(rates))"
   ]
  },
  {
   "cell_type": "code",
   "execution_count": 31,
   "metadata": {
    "tags": []
   },
   "outputs": [
    {
     "name": "stdout",
     "output_type": "stream",
     "text": [
      "[('AED', 4.048477), ('AFN', 96.446468), ('ALL', 105.535622), ('AMD', 425.690223), ('ANG', 1.983802), ('AOA', 908.963852), ('ARS', 301.614318), ('AUD', 1.656241), ('AWG', 1.983951), ('AZN', 1.878107)]\n"
     ]
    }
   ],
   "source": [
    "## Here's an idea of what the key value pairs look like rather than 170\n",
    "from itertools import islice\n",
    "def take(n, iterable):\n",
    "    return list(islice(iterable, n))\n",
    "\n",
    "n_items = take(10, rates.items())\n",
    "print(n_items)"
   ]
  },
  {
   "cell_type": "code",
   "execution_count": 32,
   "metadata": {
    "tags": []
   },
   "outputs": [
    {
     "data": {
      "text/html": [
       "<div>\n",
       "<style scoped>\n",
       "    .dataframe tbody tr th:only-of-type {\n",
       "        vertical-align: middle;\n",
       "    }\n",
       "\n",
       "    .dataframe tbody tr th {\n",
       "        vertical-align: top;\n",
       "    }\n",
       "\n",
       "    .dataframe thead th {\n",
       "        text-align: right;\n",
       "    }\n",
       "</style>\n",
       "<table border=\"1\" class=\"dataframe\">\n",
       "  <thead>\n",
       "    <tr style=\"text-align: right;\">\n",
       "      <th></th>\n",
       "      <th>rates</th>\n",
       "    </tr>\n",
       "  </thead>\n",
       "  <tbody>\n",
       "    <tr>\n",
       "      <th>AED</th>\n",
       "      <td>4.048477</td>\n",
       "    </tr>\n",
       "    <tr>\n",
       "      <th>AFN</th>\n",
       "      <td>96.446468</td>\n",
       "    </tr>\n",
       "    <tr>\n",
       "      <th>ALL</th>\n",
       "      <td>105.535622</td>\n",
       "    </tr>\n",
       "    <tr>\n",
       "      <th>AMD</th>\n",
       "      <td>425.690223</td>\n",
       "    </tr>\n",
       "    <tr>\n",
       "      <th>ANG</th>\n",
       "      <td>1.983802</td>\n",
       "    </tr>\n",
       "    <tr>\n",
       "      <th>...</th>\n",
       "      <td>...</td>\n",
       "    </tr>\n",
       "    <tr>\n",
       "      <th>YER</th>\n",
       "      <td>275.934935</td>\n",
       "    </tr>\n",
       "    <tr>\n",
       "      <th>ZAR</th>\n",
       "      <td>19.370693</td>\n",
       "    </tr>\n",
       "    <tr>\n",
       "      <th>ZMK</th>\n",
       "      <td>9921.082178</td>\n",
       "    </tr>\n",
       "    <tr>\n",
       "      <th>ZMW</th>\n",
       "      <td>20.445972</td>\n",
       "    </tr>\n",
       "    <tr>\n",
       "      <th>ZWL</th>\n",
       "      <td>354.906361</td>\n",
       "    </tr>\n",
       "  </tbody>\n",
       "</table>\n",
       "<p>170 rows × 1 columns</p>\n",
       "</div>"
      ],
      "text/plain": [
       "           rates\n",
       "AED     4.048477\n",
       "AFN    96.446468\n",
       "ALL   105.535622\n",
       "AMD   425.690223\n",
       "ANG     1.983802\n",
       "..           ...\n",
       "YER   275.934935\n",
       "ZAR    19.370693\n",
       "ZMK  9921.082178\n",
       "ZMW    20.445972\n",
       "ZWL   354.906361\n",
       "\n",
       "[170 rows x 1 columns]"
      ]
     },
     "metadata": {},
     "output_type": "display_data"
    }
   ],
   "source": [
    "# Turn the data into a dataframe (from text extracted values of response)\n",
    "dframe_text = pd.read_json(response_text)[['rates']]\n",
    "display(dframe_text)"
   ]
  },
  {
   "cell_type": "code",
   "execution_count": 38,
   "metadata": {
    "tags": []
   },
   "outputs": [
    {
     "data": {
      "text/html": [
       "<div>\n",
       "<style scoped>\n",
       "    .dataframe tbody tr th:only-of-type {\n",
       "        vertical-align: middle;\n",
       "    }\n",
       "\n",
       "    .dataframe tbody tr th {\n",
       "        vertical-align: top;\n",
       "    }\n",
       "\n",
       "    .dataframe thead th {\n",
       "        text-align: right;\n",
       "    }\n",
       "</style>\n",
       "<table border=\"1\" class=\"dataframe\">\n",
       "  <thead>\n",
       "    <tr style=\"text-align: right;\">\n",
       "      <th></th>\n",
       "      <th>ExchangeRates</th>\n",
       "    </tr>\n",
       "  </thead>\n",
       "  <tbody>\n",
       "    <tr>\n",
       "      <th>AED</th>\n",
       "      <td>4.048477</td>\n",
       "    </tr>\n",
       "    <tr>\n",
       "      <th>AFN</th>\n",
       "      <td>96.446468</td>\n",
       "    </tr>\n",
       "    <tr>\n",
       "      <th>ALL</th>\n",
       "      <td>105.535622</td>\n",
       "    </tr>\n",
       "    <tr>\n",
       "      <th>AMD</th>\n",
       "      <td>425.690223</td>\n",
       "    </tr>\n",
       "    <tr>\n",
       "      <th>ANG</th>\n",
       "      <td>1.983802</td>\n",
       "    </tr>\n",
       "  </tbody>\n",
       "</table>\n",
       "</div>"
      ],
      "text/plain": [
       "     ExchangeRates\n",
       "AED       4.048477\n",
       "AFN      96.446468\n",
       "ALL     105.535622\n",
       "AMD     425.690223\n",
       "ANG       1.983802"
      ]
     },
     "metadata": {},
     "output_type": "display_data"
    }
   ],
   "source": [
    "# Turn the data from the response dictionary and json call into a dataframe\n",
    "# {'AED': 4.048477, 'AFN': 96.446468, 'ALL': 105.535622,'AMD': 425.690223,'ANG': 1.983802,'AOA': 908.963852,'ARS': 301.614318} # sample rates dictionary\n",
    "dframe_from_dict = pd.DataFrame(data=rates.values(), index=rates.keys(), columns=['ExchangeRates'])\n",
    "display(dframe_from_dict.head())"
   ]
  },
  {
   "cell_type": "markdown",
   "metadata": {},
   "source": [
    "### Load the Data\n",
    "\n",
    "Using the dataframe save it as a CSV names `exchange_rates_1.csv`.\n"
   ]
  },
  {
   "cell_type": "code",
   "execution_count": 39,
   "metadata": {
    "tags": []
   },
   "outputs": [],
   "source": [
    "# Save the Dataframe\n",
    "dframe_from_dict.to_csv('exchange_rates_1.csv')"
   ]
  },
  {
   "cell_type": "markdown",
   "metadata": {},
   "source": [
    "Your CSV should be in this format with more currencies\n",
    "\n",
    "| | Rates |\n",
    "| ------- | ------- |\n",
    "|  AED| 4.398618    |\n",
    "|  AFN| 92.917693   |  \n",
    "|  ALL| 123.099093  |\n",
    "|  AMD| 621.935674  |\n",
    "|  ANG| 2.149648    | \n"
   ]
  },
  {
   "cell_type": "markdown",
   "metadata": {},
   "source": [
    "## Authors\n"
   ]
  },
  {
   "cell_type": "markdown",
   "metadata": {},
   "source": [
    "Ramesh Sannareddy, Joseph Santarcangelo and Azim Hirjani\n"
   ]
  },
  {
   "cell_type": "markdown",
   "metadata": {},
   "source": [
    "### Other Contributors\n"
   ]
  },
  {
   "cell_type": "markdown",
   "metadata": {},
   "source": [
    "Rav Ahuja\n"
   ]
  },
  {
   "cell_type": "markdown",
   "metadata": {},
   "source": [
    "## Change Log\n"
   ]
  },
  {
   "cell_type": "markdown",
   "metadata": {},
   "source": [
    "| Date (YYYY-MM-DD) | Version | Changed By        | Change Description                 |\n",
    "| ----------------- | ------- | ----------------- | ---------------------------------- |\n",
    "| 2022-05-06        | 0.3     | Malika            | Updated instructions to get the API and the url|\n",
    "| 2021-04-15        | 0.2     | Malika            | Updated the lab from USD to EUR    |\n",
    "| 2020-11-25        | 0.1     | Ramesh Sannareddy | Created initial version of the lab |\n"
   ]
  },
  {
   "cell_type": "markdown",
   "metadata": {},
   "source": [
    " Copyright © 2020 IBM Corporation. This notebook and its source code are released under the terms of the [MIT License](https://cognitiveclass.ai/mit-license?utm_medium=Exinfluencer&utm_source=Exinfluencer&utm_content=000026UJ&utm_term=10006555&utm_id=NA-SkillsNetwork-Channel-SkillsNetworkCoursesIBMDeveloperSkillsNetworkPY0221ENSkillsNetwork899-2023-01-01&cm_mmc=Email_Newsletter-_-Developer_Ed%2BTech-_-WW_WW-_-SkillsNetwork-Courses-IBM-DA0321EN-SkillsNetwork-21426264&cm_mmca1=000026UJ&cm_mmca2=10006555&cm_mmca3=M12345678&cvosrc=email.Newsletter.M12345678&cvo_campaign=000026UJ).\n"
   ]
  }
 ],
 "metadata": {
  "kernelspec": {
   "display_name": "Python",
   "language": "python",
   "name": "conda-env-python-py"
  },
  "language_info": {
   "codemirror_mode": {
    "name": "ipython",
    "version": 3
   },
   "file_extension": ".py",
   "mimetype": "text/x-python",
   "name": "python",
   "nbconvert_exporter": "python",
   "pygments_lexer": "ipython3",
   "version": "3.7.12"
  }
 },
 "nbformat": 4,
 "nbformat_minor": 4
}
